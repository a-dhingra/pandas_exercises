{
  "nbformat": 4,
  "nbformat_minor": 0,
  "metadata": {
    "anaconda-cloud": {},
    "kernelspec": {
      "display_name": "Python [default]",
      "language": "python",
      "name": "python2"
    },
    "language_info": {
      "codemirror_mode": {
        "name": "ipython",
        "version": 2
      },
      "file_extension": ".py",
      "mimetype": "text/x-python",
      "name": "python",
      "nbconvert_exporter": "python",
      "pygments_lexer": "ipython2",
      "version": "2.7.12"
    },
    "colab": {
      "name": "Exercises.ipynb",
      "provenance": [],
      "include_colab_link": true
    }
  },
  "cells": [
    {
      "cell_type": "markdown",
      "metadata": {
        "id": "view-in-github",
        "colab_type": "text"
      },
      "source": [
        "<a href=\"https://colab.research.google.com/github/a-dhingra/pandas_exercises/blob/master/05_Merge/Auto_MPG/Exercises%20-%20SolvedBySelf.ipynb\" target=\"_parent\"><img src=\"https://colab.research.google.com/assets/colab-badge.svg\" alt=\"Open In Colab\"/></a>"
      ]
    },
    {
      "cell_type": "markdown",
      "metadata": {
        "id": "rowDvl-YYM70"
      },
      "source": [
        "# MPG Cars"
      ]
    },
    {
      "cell_type": "markdown",
      "metadata": {
        "id": "JSfDVsn6YM8C"
      },
      "source": [
        "### Introduction:\n",
        "\n",
        "The following exercise utilizes data from [UC Irvine Machine Learning Repository](https://archive.ics.uci.edu/ml/datasets/Auto+MPG)\n",
        "\n",
        "### Step 1. Import the necessary libraries"
      ]
    },
    {
      "cell_type": "code",
      "metadata": {
        "id": "7q6YvyuiYM8D"
      },
      "source": [
        "import pandas as pd\r\n",
        "import numpy as np"
      ],
      "execution_count": 1,
      "outputs": []
    },
    {
      "cell_type": "markdown",
      "metadata": {
        "id": "QROeuZoAYM8E"
      },
      "source": [
        "### Step 2. Import the first dataset [cars1](https://raw.githubusercontent.com/guipsamora/pandas_exercises/master/05_Merge/Auto_MPG/cars1.csv) and [cars2](https://raw.githubusercontent.com/guipsamora/pandas_exercises/master/05_Merge/Auto_MPG/cars2.csv).  "
      ]
    },
    {
      "cell_type": "code",
      "metadata": {
        "id": "iwNxrH9HYUoc"
      },
      "source": [
        "url_1 = r'https://raw.githubusercontent.com/guipsamora/pandas_exercises/master/05_Merge/Auto_MPG/cars1.csv'\r\n",
        "url_2 = r'https://raw.githubusercontent.com/guipsamora/pandas_exercises/master/05_Merge/Auto_MPG/cars2.csv'\r\n",
        "\r\n",
        "data_1 = pd.read_csv(url_1)\r\n",
        "data_2 = pd.read_csv(url_2)"
      ],
      "execution_count": 2,
      "outputs": []
    },
    {
      "cell_type": "markdown",
      "metadata": {
        "id": "77vDWMKQYM8F"
      },
      "source": [
        "   ### Step 3. Assign each to a variable called cars1 and cars2"
      ]
    },
    {
      "cell_type": "code",
      "metadata": {
        "id": "lspH0ZThYM8G",
        "outputId": "3adfc65b-7ce8-4987-d33e-837dc6a84bcc",
        "colab": {
          "base_uri": "https://localhost:8080/",
          "height": 110
        }
      },
      "source": [
        "cars1 = pd.DataFrame(data_1)\r\n",
        "cars2 = pd.DataFrame(data_2)\r\n",
        "cars1.head(2)\r\n",
        "\r\n"
      ],
      "execution_count": 3,
      "outputs": [
        {
          "output_type": "execute_result",
          "data": {
            "text/plain": [
              "    mpg  cylinders  displacement horsepower  weight  acceleration  model  \\\n",
              "0  33.0          4            91         53    1795          17.4     76   \n",
              "1  20.0          6           225        100    3651          17.7     76   \n",
              "\n",
              "   origin             car  \n",
              "0       3     honda civic  \n",
              "1       1  dodge aspen se  "
            ],
            "text/html": [
              "<div>\n",
              "<style scoped>\n",
              "    .dataframe tbody tr th:only-of-type {\n",
              "        vertical-align: middle;\n",
              "    }\n",
              "\n",
              "    .dataframe tbody tr th {\n",
              "        vertical-align: top;\n",
              "    }\n",
              "\n",
              "    .dataframe thead th {\n",
              "        text-align: right;\n",
              "    }\n",
              "</style>\n",
              "<table border=\"1\" class=\"dataframe\">\n",
              "  <thead>\n",
              "    <tr style=\"text-align: right;\">\n",
              "      <th></th>\n",
              "      <th>mpg</th>\n",
              "      <th>cylinders</th>\n",
              "      <th>displacement</th>\n",
              "      <th>horsepower</th>\n",
              "      <th>weight</th>\n",
              "      <th>acceleration</th>\n",
              "      <th>model</th>\n",
              "      <th>origin</th>\n",
              "      <th>car</th>\n",
              "    </tr>\n",
              "  </thead>\n",
              "  <tbody>\n",
              "    <tr>\n",
              "      <th>0</th>\n",
              "      <td>33.0</td>\n",
              "      <td>4</td>\n",
              "      <td>91</td>\n",
              "      <td>53</td>\n",
              "      <td>1795</td>\n",
              "      <td>17.4</td>\n",
              "      <td>76</td>\n",
              "      <td>3</td>\n",
              "      <td>honda civic</td>\n",
              "    </tr>\n",
              "    <tr>\n",
              "      <th>1</th>\n",
              "      <td>20.0</td>\n",
              "      <td>6</td>\n",
              "      <td>225</td>\n",
              "      <td>100</td>\n",
              "      <td>3651</td>\n",
              "      <td>17.7</td>\n",
              "      <td>76</td>\n",
              "      <td>1</td>\n",
              "      <td>dodge aspen se</td>\n",
              "    </tr>\n",
              "  </tbody>\n",
              "</table>\n",
              "</div>"
            ]
          },
          "metadata": {
            "tags": []
          },
          "execution_count": 3
        }
      ]
    },
    {
      "cell_type": "code",
      "metadata": {
        "id": "ckRZSJtyYyex",
        "outputId": "61cb3d0b-3e48-4d49-9d5a-bc3edd0cd90c",
        "colab": {
          "base_uri": "https://localhost:8080/"
        }
      },
      "source": [
        "cars1.info()"
      ],
      "execution_count": 5,
      "outputs": [
        {
          "output_type": "stream",
          "text": [
            "<class 'pandas.core.frame.DataFrame'>\n",
            "RangeIndex: 198 entries, 0 to 197\n",
            "Data columns (total 14 columns):\n",
            "mpg             198 non-null float64\n",
            "cylinders       198 non-null int64\n",
            "displacement    198 non-null int64\n",
            "horsepower      198 non-null object\n",
            "weight          198 non-null int64\n",
            "acceleration    198 non-null float64\n",
            "model           198 non-null int64\n",
            "origin          198 non-null int64\n",
            "car             198 non-null object\n",
            "Unnamed: 9      0 non-null float64\n",
            "Unnamed: 10     0 non-null float64\n",
            "Unnamed: 11     0 non-null float64\n",
            "Unnamed: 12     0 non-null float64\n",
            "Unnamed: 13     0 non-null float64\n",
            "dtypes: float64(7), int64(5), object(2)\n",
            "memory usage: 21.7+ KB\n"
          ],
          "name": "stdout"
        }
      ]
    },
    {
      "cell_type": "code",
      "metadata": {
        "id": "jbFviJdBYybE"
      },
      "source": [
        "cars"
      ],
      "execution_count": null,
      "outputs": []
    },
    {
      "cell_type": "code",
      "metadata": {
        "id": "WUaeidKwYv7c",
        "outputId": "d00e5d0d-24a6-40e4-f224-96d9c4e44b12",
        "colab": {
          "base_uri": "https://localhost:8080/"
        }
      },
      "source": [
        "cars2.info()"
      ],
      "execution_count": 8,
      "outputs": [
        {
          "output_type": "stream",
          "text": [
            "<class 'pandas.core.frame.DataFrame'>\n",
            "RangeIndex: 200 entries, 0 to 199\n",
            "Data columns (total 9 columns):\n",
            "mpg             200 non-null float64\n",
            "cylinders       200 non-null int64\n",
            "displacement    200 non-null int64\n",
            "horsepower      200 non-null object\n",
            "weight          200 non-null int64\n",
            "acceleration    200 non-null float64\n",
            "model           200 non-null int64\n",
            "origin          200 non-null int64\n",
            "car             200 non-null object\n",
            "dtypes: float64(2), int64(5), object(2)\n",
            "memory usage: 14.1+ KB\n"
          ],
          "name": "stdout"
        }
      ]
    },
    {
      "cell_type": "markdown",
      "metadata": {
        "id": "34Nu3JI4YM8H"
      },
      "source": [
        "### Step 4. Oops, it seems our first dataset has some unnamed blank columns, fix cars1"
      ]
    },
    {
      "cell_type": "code",
      "metadata": {
        "id": "FoSrfzN7YM8H",
        "outputId": "dc8933ba-d4bd-4529-a30d-f3ac26476703",
        "colab": {
          "base_uri": "https://localhost:8080/",
          "height": 202
        }
      },
      "source": [
        "cars1 = cars1.loc[:,'mpg':'car']\r\n",
        "cars1.head()"
      ],
      "execution_count": 9,
      "outputs": [
        {
          "output_type": "execute_result",
          "data": {
            "text/plain": [
              "    mpg  cylinders  displacement horsepower  weight  acceleration  model  \\\n",
              "0  18.0          8           307        130    3504          12.0     70   \n",
              "1  15.0          8           350        165    3693          11.5     70   \n",
              "2  18.0          8           318        150    3436          11.0     70   \n",
              "3  16.0          8           304        150    3433          12.0     70   \n",
              "4  17.0          8           302        140    3449          10.5     70   \n",
              "\n",
              "   origin                        car  \n",
              "0       1  chevrolet chevelle malibu  \n",
              "1       1          buick skylark 320  \n",
              "2       1         plymouth satellite  \n",
              "3       1              amc rebel sst  \n",
              "4       1                ford torino  "
            ],
            "text/html": [
              "<div>\n",
              "<style scoped>\n",
              "    .dataframe tbody tr th:only-of-type {\n",
              "        vertical-align: middle;\n",
              "    }\n",
              "\n",
              "    .dataframe tbody tr th {\n",
              "        vertical-align: top;\n",
              "    }\n",
              "\n",
              "    .dataframe thead th {\n",
              "        text-align: right;\n",
              "    }\n",
              "</style>\n",
              "<table border=\"1\" class=\"dataframe\">\n",
              "  <thead>\n",
              "    <tr style=\"text-align: right;\">\n",
              "      <th></th>\n",
              "      <th>mpg</th>\n",
              "      <th>cylinders</th>\n",
              "      <th>displacement</th>\n",
              "      <th>horsepower</th>\n",
              "      <th>weight</th>\n",
              "      <th>acceleration</th>\n",
              "      <th>model</th>\n",
              "      <th>origin</th>\n",
              "      <th>car</th>\n",
              "    </tr>\n",
              "  </thead>\n",
              "  <tbody>\n",
              "    <tr>\n",
              "      <th>0</th>\n",
              "      <td>18.0</td>\n",
              "      <td>8</td>\n",
              "      <td>307</td>\n",
              "      <td>130</td>\n",
              "      <td>3504</td>\n",
              "      <td>12.0</td>\n",
              "      <td>70</td>\n",
              "      <td>1</td>\n",
              "      <td>chevrolet chevelle malibu</td>\n",
              "    </tr>\n",
              "    <tr>\n",
              "      <th>1</th>\n",
              "      <td>15.0</td>\n",
              "      <td>8</td>\n",
              "      <td>350</td>\n",
              "      <td>165</td>\n",
              "      <td>3693</td>\n",
              "      <td>11.5</td>\n",
              "      <td>70</td>\n",
              "      <td>1</td>\n",
              "      <td>buick skylark 320</td>\n",
              "    </tr>\n",
              "    <tr>\n",
              "      <th>2</th>\n",
              "      <td>18.0</td>\n",
              "      <td>8</td>\n",
              "      <td>318</td>\n",
              "      <td>150</td>\n",
              "      <td>3436</td>\n",
              "      <td>11.0</td>\n",
              "      <td>70</td>\n",
              "      <td>1</td>\n",
              "      <td>plymouth satellite</td>\n",
              "    </tr>\n",
              "    <tr>\n",
              "      <th>3</th>\n",
              "      <td>16.0</td>\n",
              "      <td>8</td>\n",
              "      <td>304</td>\n",
              "      <td>150</td>\n",
              "      <td>3433</td>\n",
              "      <td>12.0</td>\n",
              "      <td>70</td>\n",
              "      <td>1</td>\n",
              "      <td>amc rebel sst</td>\n",
              "    </tr>\n",
              "    <tr>\n",
              "      <th>4</th>\n",
              "      <td>17.0</td>\n",
              "      <td>8</td>\n",
              "      <td>302</td>\n",
              "      <td>140</td>\n",
              "      <td>3449</td>\n",
              "      <td>10.5</td>\n",
              "      <td>70</td>\n",
              "      <td>1</td>\n",
              "      <td>ford torino</td>\n",
              "    </tr>\n",
              "  </tbody>\n",
              "</table>\n",
              "</div>"
            ]
          },
          "metadata": {
            "tags": []
          },
          "execution_count": 9
        }
      ]
    },
    {
      "cell_type": "code",
      "metadata": {
        "id": "2N2XVgRFZ4dI",
        "outputId": "05b5d817-9397-4437-f80e-a76f535b8e34",
        "colab": {
          "base_uri": "https://localhost:8080/",
          "height": 110
        }
      },
      "source": [
        "cars2.head(2)"
      ],
      "execution_count": 14,
      "outputs": [
        {
          "output_type": "execute_result",
          "data": {
            "text/plain": [
              "    mpg  cylinders  displacement horsepower  weight  acceleration  model  \\\n",
              "0  33.0          4            91         53    1795          17.4     76   \n",
              "1  20.0          6           225        100    3651          17.7     76   \n",
              "\n",
              "   origin             car  \n",
              "0       3     honda civic  \n",
              "1       1  dodge aspen se  "
            ],
            "text/html": [
              "<div>\n",
              "<style scoped>\n",
              "    .dataframe tbody tr th:only-of-type {\n",
              "        vertical-align: middle;\n",
              "    }\n",
              "\n",
              "    .dataframe tbody tr th {\n",
              "        vertical-align: top;\n",
              "    }\n",
              "\n",
              "    .dataframe thead th {\n",
              "        text-align: right;\n",
              "    }\n",
              "</style>\n",
              "<table border=\"1\" class=\"dataframe\">\n",
              "  <thead>\n",
              "    <tr style=\"text-align: right;\">\n",
              "      <th></th>\n",
              "      <th>mpg</th>\n",
              "      <th>cylinders</th>\n",
              "      <th>displacement</th>\n",
              "      <th>horsepower</th>\n",
              "      <th>weight</th>\n",
              "      <th>acceleration</th>\n",
              "      <th>model</th>\n",
              "      <th>origin</th>\n",
              "      <th>car</th>\n",
              "    </tr>\n",
              "  </thead>\n",
              "  <tbody>\n",
              "    <tr>\n",
              "      <th>0</th>\n",
              "      <td>33.0</td>\n",
              "      <td>4</td>\n",
              "      <td>91</td>\n",
              "      <td>53</td>\n",
              "      <td>1795</td>\n",
              "      <td>17.4</td>\n",
              "      <td>76</td>\n",
              "      <td>3</td>\n",
              "      <td>honda civic</td>\n",
              "    </tr>\n",
              "    <tr>\n",
              "      <th>1</th>\n",
              "      <td>20.0</td>\n",
              "      <td>6</td>\n",
              "      <td>225</td>\n",
              "      <td>100</td>\n",
              "      <td>3651</td>\n",
              "      <td>17.7</td>\n",
              "      <td>76</td>\n",
              "      <td>1</td>\n",
              "      <td>dodge aspen se</td>\n",
              "    </tr>\n",
              "  </tbody>\n",
              "</table>\n",
              "</div>"
            ]
          },
          "metadata": {
            "tags": []
          },
          "execution_count": 14
        }
      ]
    },
    {
      "cell_type": "code",
      "metadata": {
        "id": "Ek5ViJQVZ8AZ",
        "outputId": "1dc9e6b3-93b9-4a8a-a81d-c4b4685a0eda",
        "colab": {
          "base_uri": "https://localhost:8080/"
        }
      },
      "source": [
        "cars2.index"
      ],
      "execution_count": 16,
      "outputs": [
        {
          "output_type": "execute_result",
          "data": {
            "text/plain": [
              "RangeIndex(start=0, stop=200, step=1)"
            ]
          },
          "metadata": {
            "tags": []
          },
          "execution_count": 16
        }
      ]
    },
    {
      "cell_type": "code",
      "metadata": {
        "id": "YoLFel79Z_0L",
        "outputId": "b8bd0023-7827-498b-cdec-cf94d32d6f8f",
        "colab": {
          "base_uri": "https://localhost:8080/"
        }
      },
      "source": [
        "cars1.index"
      ],
      "execution_count": 17,
      "outputs": [
        {
          "output_type": "execute_result",
          "data": {
            "text/plain": [
              "RangeIndex(start=0, stop=198, step=1)"
            ]
          },
          "metadata": {
            "tags": []
          },
          "execution_count": 17
        }
      ]
    },
    {
      "cell_type": "code",
      "metadata": {
        "id": "GPpQfdsAaSHL",
        "outputId": "1bd969c1-2f33-4e11-c57d-ead6df216478",
        "colab": {
          "base_uri": "https://localhost:8080/"
        }
      },
      "source": [
        "cars1.shape"
      ],
      "execution_count": 20,
      "outputs": [
        {
          "output_type": "execute_result",
          "data": {
            "text/plain": [
              "(198, 9)"
            ]
          },
          "metadata": {
            "tags": []
          },
          "execution_count": 20
        }
      ]
    },
    {
      "cell_type": "markdown",
      "metadata": {
        "id": "L8PNfl8VYM8I"
      },
      "source": [
        "### Step 5. What is the number of observations in each dataset?"
      ]
    },
    {
      "cell_type": "code",
      "metadata": {
        "id": "B4-Xpl1gYM8J",
        "outputId": "c5d1a5fc-335d-4aea-faf3-fbdedabeb5ab",
        "colab": {
          "base_uri": "https://localhost:8080/"
        }
      },
      "source": [
        "cars1.size"
      ],
      "execution_count": 10,
      "outputs": [
        {
          "output_type": "execute_result",
          "data": {
            "text/plain": [
              "1782"
            ]
          },
          "metadata": {
            "tags": []
          },
          "execution_count": 10
        }
      ]
    },
    {
      "cell_type": "code",
      "metadata": {
        "id": "NKz4bdaeZQVT",
        "outputId": "858f73f0-35c4-4c4c-f2a0-f2ef69122904",
        "colab": {
          "base_uri": "https://localhost:8080/"
        }
      },
      "source": [
        "cars2.size"
      ],
      "execution_count": 11,
      "outputs": [
        {
          "output_type": "execute_result",
          "data": {
            "text/plain": [
              "1800"
            ]
          },
          "metadata": {
            "tags": []
          },
          "execution_count": 11
        }
      ]
    },
    {
      "cell_type": "markdown",
      "metadata": {
        "id": "hN_-qIxpYM8J"
      },
      "source": [
        "### Step 6. Join cars1 and cars2 into a single DataFrame called cars"
      ]
    },
    {
      "cell_type": "code",
      "metadata": {
        "id": "_sJU8zskYM8K",
        "outputId": "6ec2f0bb-33aa-4d2c-fb10-1fd07e55f6a8",
        "colab": {
          "base_uri": "https://localhost:8080/"
        }
      },
      "source": [
        "cars = cars1.append(cars2, ignore_index=True)\r\n",
        "cars.shape"
      ],
      "execution_count": 21,
      "outputs": [
        {
          "output_type": "execute_result",
          "data": {
            "text/plain": [
              "(398, 9)"
            ]
          },
          "metadata": {
            "tags": []
          },
          "execution_count": 21
        }
      ]
    },
    {
      "cell_type": "markdown",
      "metadata": {
        "id": "ZllbkhaNYM8K"
      },
      "source": [
        "### Step 7. Oops, there is a column missing, called owners. Create a random number Series from 15,000 to 73,000."
      ]
    },
    {
      "cell_type": "code",
      "metadata": {
        "id": "cpHcOGLTYM8L",
        "outputId": "48c8671e-3f6b-4f91-febf-74d1b62bae83",
        "colab": {
          "base_uri": "https://localhost:8080/"
        }
      },
      "source": [
        "owner = np.random.random_integers(15000,73000,size=398)\r\n",
        "owner"
      ],
      "execution_count": 22,
      "outputs": [
        {
          "output_type": "stream",
          "text": [
            "/usr/local/lib/python2.7/dist-packages/ipykernel_launcher.py:1: DeprecationWarning: This function is deprecated. Please call randint(15000, 73000 + 1) instead\n",
            "  \"\"\"Entry point for launching an IPython kernel.\n"
          ],
          "name": "stderr"
        },
        {
          "output_type": "execute_result",
          "data": {
            "text/plain": [
              "array([30994, 24522, 23830, 50698, 51716, 38694, 68765, 44209, 51342,\n",
              "       17791, 71216, 58761, 22782, 56751, 68243, 68085, 62727, 52800,\n",
              "       70863, 65436, 23835, 26694, 33677, 66034, 27661, 50770, 62804,\n",
              "       48846, 35560, 41936, 41828, 45402, 23529, 49511, 61700, 17700,\n",
              "       64723, 44802, 21588, 55480, 36693, 46451, 25679, 48429, 25305,\n",
              "       59892, 67010, 67081, 48094, 60845, 50989, 27030, 16603, 44902,\n",
              "       54289, 65993, 37133, 34793, 23671, 57706, 35674, 34055, 69470,\n",
              "       50748, 24229, 65919, 67878, 68876, 72117, 72015, 65651, 48106,\n",
              "       63217, 31772, 35911, 64020, 23144, 63245, 52161, 29302, 28306,\n",
              "       29522, 22362, 31102, 65977, 69234, 44844, 69990, 65786, 53761,\n",
              "       38036, 46176, 59583, 42132, 24309, 30427, 52497, 53829, 19136,\n",
              "       52534, 38699, 20221, 57482, 25798, 56022, 40632, 67136, 24763,\n",
              "       37901, 32523, 68943, 68686, 30973, 67113, 56169, 57156, 56637,\n",
              "       20651, 45660, 32389, 55014, 30451, 64891, 59399, 32100, 36396,\n",
              "       15094, 68763, 37393, 32684, 38923, 47291, 23827, 55621, 48814,\n",
              "       59653, 70420, 32990, 63922, 34381, 60965, 32395, 22944, 31470,\n",
              "       20898, 58441, 25893, 58071, 34398, 70492, 63890, 46377, 53424,\n",
              "       27897, 69275, 53378, 46965, 15098, 15089, 35208, 38162, 41841,\n",
              "       33376, 59184, 53375, 15488, 66192, 18079, 22846, 68783, 52306,\n",
              "       43747, 16817, 33918, 23354, 72642, 62128, 28262, 54763, 62312,\n",
              "       16461, 37391, 37323, 41299, 55605, 71466, 38896, 34632, 63612,\n",
              "       26274, 35403, 62630, 52281, 52088, 28747, 26324, 49974, 17222,\n",
              "       42552, 38895, 19963, 40401, 34505, 29634, 48370, 19651, 37031,\n",
              "       44916, 18940, 57923, 69261, 31772, 52320, 29754, 40633, 48744,\n",
              "       51636, 46353, 38518, 28914, 60736, 60871, 29764, 18796, 50456,\n",
              "       52761, 33173, 26839, 46560, 65882, 61343, 56168, 72447, 19262,\n",
              "       33578, 24269, 37107, 56405, 70283, 56908, 40741, 65015, 21048,\n",
              "       55004, 51179, 70030, 22651, 70100, 28927, 44886, 22776, 30178,\n",
              "       25755, 64573, 27975, 53530, 35598, 45461, 18259, 52036, 21859,\n",
              "       64372, 25743, 35573, 21896, 56274, 67744, 62005, 49158, 19371,\n",
              "       58568, 61903, 44239, 55160, 50382, 25775, 43155, 72262, 20263,\n",
              "       55131, 54262, 28652, 27231, 35128, 28142, 15211, 55551, 30117,\n",
              "       56067, 21286, 43679, 65191, 57663, 52337, 24125, 42084, 62504,\n",
              "       45543, 29835, 59930, 60394, 70764, 17142, 57838, 58919, 32715,\n",
              "       69163, 38230, 54289, 16481, 16682, 18360, 47695, 62507, 66374,\n",
              "       54177, 15009, 37175, 67453, 33154, 32176, 16129, 72353, 19781,\n",
              "       25143, 35254, 50968, 33464, 42944, 16896, 67621, 34675, 26741,\n",
              "       20214, 45312, 18699, 65435, 51248, 37700, 21311, 69014, 17355,\n",
              "       50935, 64192, 30575, 25243, 54036, 39707, 64481, 70117, 47981,\n",
              "       46007, 36122, 36408, 54470, 37156, 68307, 59266, 16506, 58872,\n",
              "       22868, 60975, 39224, 38927, 38544, 44952, 54841, 46560, 22954,\n",
              "       50594, 62061, 56677, 19756, 40025, 40452, 38176, 30992, 38518,\n",
              "       44422, 68975, 17652, 18943, 37295, 33494, 34775, 40352, 28861,\n",
              "       38854, 61033, 64959, 44237, 52873, 31314, 46628, 58296, 53330,\n",
              "       32313, 18764])"
            ]
          },
          "metadata": {
            "tags": []
          },
          "execution_count": 22
        }
      ]
    },
    {
      "cell_type": "markdown",
      "metadata": {
        "id": "1BATA5kIYM8L"
      },
      "source": [
        "### Step 8. Add the column owners to cars"
      ]
    },
    {
      "cell_type": "code",
      "metadata": {
        "id": "PecV4EH5YM8M",
        "outputId": "6c583749-bc17-4ba2-e3bf-b98d14280db1",
        "colab": {
          "base_uri": "https://localhost:8080/",
          "height": 202
        }
      },
      "source": [
        "cars['owners'] = owner\r\n",
        "cars.head()"
      ],
      "execution_count": 23,
      "outputs": [
        {
          "output_type": "execute_result",
          "data": {
            "text/plain": [
              "    mpg  cylinders  displacement horsepower  weight  acceleration  model  \\\n",
              "0  18.0          8           307        130    3504          12.0     70   \n",
              "1  15.0          8           350        165    3693          11.5     70   \n",
              "2  18.0          8           318        150    3436          11.0     70   \n",
              "3  16.0          8           304        150    3433          12.0     70   \n",
              "4  17.0          8           302        140    3449          10.5     70   \n",
              "\n",
              "   origin                        car  owners  \n",
              "0       1  chevrolet chevelle malibu   30994  \n",
              "1       1          buick skylark 320   24522  \n",
              "2       1         plymouth satellite   23830  \n",
              "3       1              amc rebel sst   50698  \n",
              "4       1                ford torino   51716  "
            ],
            "text/html": [
              "<div>\n",
              "<style scoped>\n",
              "    .dataframe tbody tr th:only-of-type {\n",
              "        vertical-align: middle;\n",
              "    }\n",
              "\n",
              "    .dataframe tbody tr th {\n",
              "        vertical-align: top;\n",
              "    }\n",
              "\n",
              "    .dataframe thead th {\n",
              "        text-align: right;\n",
              "    }\n",
              "</style>\n",
              "<table border=\"1\" class=\"dataframe\">\n",
              "  <thead>\n",
              "    <tr style=\"text-align: right;\">\n",
              "      <th></th>\n",
              "      <th>mpg</th>\n",
              "      <th>cylinders</th>\n",
              "      <th>displacement</th>\n",
              "      <th>horsepower</th>\n",
              "      <th>weight</th>\n",
              "      <th>acceleration</th>\n",
              "      <th>model</th>\n",
              "      <th>origin</th>\n",
              "      <th>car</th>\n",
              "      <th>owners</th>\n",
              "    </tr>\n",
              "  </thead>\n",
              "  <tbody>\n",
              "    <tr>\n",
              "      <th>0</th>\n",
              "      <td>18.0</td>\n",
              "      <td>8</td>\n",
              "      <td>307</td>\n",
              "      <td>130</td>\n",
              "      <td>3504</td>\n",
              "      <td>12.0</td>\n",
              "      <td>70</td>\n",
              "      <td>1</td>\n",
              "      <td>chevrolet chevelle malibu</td>\n",
              "      <td>30994</td>\n",
              "    </tr>\n",
              "    <tr>\n",
              "      <th>1</th>\n",
              "      <td>15.0</td>\n",
              "      <td>8</td>\n",
              "      <td>350</td>\n",
              "      <td>165</td>\n",
              "      <td>3693</td>\n",
              "      <td>11.5</td>\n",
              "      <td>70</td>\n",
              "      <td>1</td>\n",
              "      <td>buick skylark 320</td>\n",
              "      <td>24522</td>\n",
              "    </tr>\n",
              "    <tr>\n",
              "      <th>2</th>\n",
              "      <td>18.0</td>\n",
              "      <td>8</td>\n",
              "      <td>318</td>\n",
              "      <td>150</td>\n",
              "      <td>3436</td>\n",
              "      <td>11.0</td>\n",
              "      <td>70</td>\n",
              "      <td>1</td>\n",
              "      <td>plymouth satellite</td>\n",
              "      <td>23830</td>\n",
              "    </tr>\n",
              "    <tr>\n",
              "      <th>3</th>\n",
              "      <td>16.0</td>\n",
              "      <td>8</td>\n",
              "      <td>304</td>\n",
              "      <td>150</td>\n",
              "      <td>3433</td>\n",
              "      <td>12.0</td>\n",
              "      <td>70</td>\n",
              "      <td>1</td>\n",
              "      <td>amc rebel sst</td>\n",
              "      <td>50698</td>\n",
              "    </tr>\n",
              "    <tr>\n",
              "      <th>4</th>\n",
              "      <td>17.0</td>\n",
              "      <td>8</td>\n",
              "      <td>302</td>\n",
              "      <td>140</td>\n",
              "      <td>3449</td>\n",
              "      <td>10.5</td>\n",
              "      <td>70</td>\n",
              "      <td>1</td>\n",
              "      <td>ford torino</td>\n",
              "      <td>51716</td>\n",
              "    </tr>\n",
              "  </tbody>\n",
              "</table>\n",
              "</div>"
            ]
          },
          "metadata": {
            "tags": []
          },
          "execution_count": 23
        }
      ]
    },
    {
      "cell_type": "code",
      "metadata": {
        "id": "pWKDjO3qa6is"
      },
      "source": [
        ""
      ],
      "execution_count": null,
      "outputs": []
    }
  ]
}