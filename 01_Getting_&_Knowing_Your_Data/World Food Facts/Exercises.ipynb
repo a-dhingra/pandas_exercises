{
  "nbformat": 4,
  "nbformat_minor": 0,
  "metadata": {
    "anaconda-cloud": {},
    "kernelspec": {
      "display_name": "Python [default]",
      "language": "python",
      "name": "python2"
    },
    "language_info": {
      "codemirror_mode": {
        "name": "ipython",
        "version": 2
      },
      "file_extension": ".py",
      "mimetype": "text/x-python",
      "name": "python",
      "nbconvert_exporter": "python",
      "pygments_lexer": "ipython2",
      "version": "2.7.12"
    },
    "colab": {
      "name": "Exercises.ipynb",
      "provenance": []
    }
  },
  "cells": [
    {
      "cell_type": "markdown",
      "metadata": {
        "id": "6_KcguzlZCDj"
      },
      "source": [
        "# Exercise 1"
      ]
    },
    {
      "cell_type": "markdown",
      "metadata": {
        "id": "S_ixdCP_ZCDn"
      },
      "source": [
        "### Step 1. Go to https://www.kaggle.com/openfoodfacts/world-food-facts/data"
      ]
    },
    {
      "cell_type": "markdown",
      "metadata": {
        "id": "y1wIHJUKZCDo"
      },
      "source": [
        "### Step 2. Download the dataset to your computer and unzip it."
      ]
    },
    {
      "cell_type": "markdown",
      "metadata": {
        "id": "xqahaWyYZCDo"
      },
      "source": [
        "### Step 3. Use the tsv file and assign it to a dataframe called food"
      ]
    },
    {
      "cell_type": "code",
      "metadata": {
        "collapsed": true,
        "id": "OsQTRSMwZCDp",
        "outputId": "83a92bb6-1f86-4d4b-b2b8-48fb77fb0bf7",
        "colab": {
          "base_uri": "https://localhost:8080/"
        }
      },
      "source": [
        "data_url = r'https://static.openfoodfacts.org/data/en.openfoodfacts.org.products.csv'\r\n",
        "import pandas as pd\r\n",
        "import numpy as np\r\n",
        "\r\n",
        "data = pd.read_csv(data_url, sep='\\t')\r\n",
        "food = pd.DataFrame(data)"
      ],
      "execution_count": 2,
      "outputs": [
        {
          "output_type": "stream",
          "text": [
            "/usr/local/lib/python2.7/dist-packages/IPython/core/interactiveshell.py:2718: DtypeWarning: Columns (0,12,18,19,20,21,22,26,27,28,30,51,63) have mixed types. Specify dtype option on import or set low_memory=False.\n",
            "  interactivity=interactivity, compiler=compiler, result=result)\n"
          ],
          "name": "stderr"
        }
      ]
    },
    {
      "cell_type": "markdown",
      "metadata": {
        "id": "2R_c3SnpZCDq"
      },
      "source": [
        "### Step 4. See the first 5 entries"
      ]
    },
    {
      "cell_type": "code",
      "metadata": {
        "collapsed": true,
        "id": "-6uczUStZCDq",
        "outputId": "9e8afabf-c849-41ae-9fef-d30b74e10b9d",
        "colab": {
          "base_uri": "https://localhost:8080/",
          "height": 425
        }
      },
      "source": [
        "food.head()"
      ],
      "execution_count": 3,
      "outputs": [
        {
          "output_type": "execute_result",
          "data": {
            "text/plain": [
              "                   code                                                url  \\\n",
              "0         0000000000017  http://world-en.openfoodfacts.org/product/0000...   \n",
              "1         0000000000031  http://world-en.openfoodfacts.org/product/0000...   \n",
              "2    000000000003327986  http://world-en.openfoodfacts.org/product/0000...   \n",
              "3         0000000000100  http://world-en.openfoodfacts.org/product/0000...   \n",
              "4  00000000001111111111  http://world-en.openfoodfacts.org/product/0000...   \n",
              "\n",
              "                      creator   created_t      created_datetime  \\\n",
              "0                     kiliweb  1529059080  2018-06-15T10:38:00Z   \n",
              "1                    isagoofy  1539464774  2018-10-13T21:06:14Z   \n",
              "2                     kiliweb  1574175736  2019-11-19T15:02:16Z   \n",
              "3                       del51  1444572561  2015-10-11T14:09:21Z   \n",
              "4  openfoodfacts-contributors  1560020173  2019-06-08T18:56:13Z   \n",
              "\n",
              "   last_modified_t last_modified_datetime                  product_name  \\\n",
              "0       1561463718   2019-06-25T11:55:18Z              Vitória crackers   \n",
              "1       1539464817   2018-10-13T21:06:57Z                         Cacao   \n",
              "2       1574175737   2019-11-19T15:02:17Z     Filetes de pollo empanado   \n",
              "3       1444659212   2015-10-12T14:13:32Z   moutarde au moût de raisin    \n",
              "4       1560020173   2019-06-08T18:56:13Z                       Sfiudwx   \n",
              "\n",
              "  generic_name quantity  ... carbon-footprint-from-meat-or-fish_100g  \\\n",
              "0          NaN      NaN  ...                                     NaN   \n",
              "1          NaN    130 g  ...                                     NaN   \n",
              "2          NaN      NaN  ...                                     NaN   \n",
              "3          NaN     100g  ...                                     NaN   \n",
              "4          NaN    dgesc  ...                                     NaN   \n",
              "\n",
              "  nutrition-score-fr_100g nutrition-score-uk_100g glycemic-index_100g  \\\n",
              "0                     NaN                     NaN                 NaN   \n",
              "1                     NaN                     NaN                 NaN   \n",
              "2                     NaN                     NaN                 NaN   \n",
              "3                    18.0                     NaN                 NaN   \n",
              "4                     NaN                     NaN                 NaN   \n",
              "\n",
              "  water-hardness_100g choline_100g phylloquinone_100g beta-glucan_100g  \\\n",
              "0                 NaN          NaN                NaN              NaN   \n",
              "1                 NaN          NaN                NaN              NaN   \n",
              "2                 NaN          NaN                NaN              NaN   \n",
              "3                 NaN          NaN                NaN              NaN   \n",
              "4                 NaN          NaN                NaN              NaN   \n",
              "\n",
              "  inositol_100g carnitine_100g  \n",
              "0           NaN            NaN  \n",
              "1           NaN            NaN  \n",
              "2           NaN            NaN  \n",
              "3           NaN            NaN  \n",
              "4           NaN            NaN  \n",
              "\n",
              "[5 rows x 183 columns]"
            ],
            "text/html": [
              "<div>\n",
              "<style scoped>\n",
              "    .dataframe tbody tr th:only-of-type {\n",
              "        vertical-align: middle;\n",
              "    }\n",
              "\n",
              "    .dataframe tbody tr th {\n",
              "        vertical-align: top;\n",
              "    }\n",
              "\n",
              "    .dataframe thead th {\n",
              "        text-align: right;\n",
              "    }\n",
              "</style>\n",
              "<table border=\"1\" class=\"dataframe\">\n",
              "  <thead>\n",
              "    <tr style=\"text-align: right;\">\n",
              "      <th></th>\n",
              "      <th>code</th>\n",
              "      <th>url</th>\n",
              "      <th>creator</th>\n",
              "      <th>created_t</th>\n",
              "      <th>created_datetime</th>\n",
              "      <th>last_modified_t</th>\n",
              "      <th>last_modified_datetime</th>\n",
              "      <th>product_name</th>\n",
              "      <th>generic_name</th>\n",
              "      <th>quantity</th>\n",
              "      <th>...</th>\n",
              "      <th>carbon-footprint-from-meat-or-fish_100g</th>\n",
              "      <th>nutrition-score-fr_100g</th>\n",
              "      <th>nutrition-score-uk_100g</th>\n",
              "      <th>glycemic-index_100g</th>\n",
              "      <th>water-hardness_100g</th>\n",
              "      <th>choline_100g</th>\n",
              "      <th>phylloquinone_100g</th>\n",
              "      <th>beta-glucan_100g</th>\n",
              "      <th>inositol_100g</th>\n",
              "      <th>carnitine_100g</th>\n",
              "    </tr>\n",
              "  </thead>\n",
              "  <tbody>\n",
              "    <tr>\n",
              "      <th>0</th>\n",
              "      <td>0000000000017</td>\n",
              "      <td>http://world-en.openfoodfacts.org/product/0000...</td>\n",
              "      <td>kiliweb</td>\n",
              "      <td>1529059080</td>\n",
              "      <td>2018-06-15T10:38:00Z</td>\n",
              "      <td>1561463718</td>\n",
              "      <td>2019-06-25T11:55:18Z</td>\n",
              "      <td>Vitória crackers</td>\n",
              "      <td>NaN</td>\n",
              "      <td>NaN</td>\n",
              "      <td>...</td>\n",
              "      <td>NaN</td>\n",
              "      <td>NaN</td>\n",
              "      <td>NaN</td>\n",
              "      <td>NaN</td>\n",
              "      <td>NaN</td>\n",
              "      <td>NaN</td>\n",
              "      <td>NaN</td>\n",
              "      <td>NaN</td>\n",
              "      <td>NaN</td>\n",
              "      <td>NaN</td>\n",
              "    </tr>\n",
              "    <tr>\n",
              "      <th>1</th>\n",
              "      <td>0000000000031</td>\n",
              "      <td>http://world-en.openfoodfacts.org/product/0000...</td>\n",
              "      <td>isagoofy</td>\n",
              "      <td>1539464774</td>\n",
              "      <td>2018-10-13T21:06:14Z</td>\n",
              "      <td>1539464817</td>\n",
              "      <td>2018-10-13T21:06:57Z</td>\n",
              "      <td>Cacao</td>\n",
              "      <td>NaN</td>\n",
              "      <td>130 g</td>\n",
              "      <td>...</td>\n",
              "      <td>NaN</td>\n",
              "      <td>NaN</td>\n",
              "      <td>NaN</td>\n",
              "      <td>NaN</td>\n",
              "      <td>NaN</td>\n",
              "      <td>NaN</td>\n",
              "      <td>NaN</td>\n",
              "      <td>NaN</td>\n",
              "      <td>NaN</td>\n",
              "      <td>NaN</td>\n",
              "    </tr>\n",
              "    <tr>\n",
              "      <th>2</th>\n",
              "      <td>000000000003327986</td>\n",
              "      <td>http://world-en.openfoodfacts.org/product/0000...</td>\n",
              "      <td>kiliweb</td>\n",
              "      <td>1574175736</td>\n",
              "      <td>2019-11-19T15:02:16Z</td>\n",
              "      <td>1574175737</td>\n",
              "      <td>2019-11-19T15:02:17Z</td>\n",
              "      <td>Filetes de pollo empanado</td>\n",
              "      <td>NaN</td>\n",
              "      <td>NaN</td>\n",
              "      <td>...</td>\n",
              "      <td>NaN</td>\n",
              "      <td>NaN</td>\n",
              "      <td>NaN</td>\n",
              "      <td>NaN</td>\n",
              "      <td>NaN</td>\n",
              "      <td>NaN</td>\n",
              "      <td>NaN</td>\n",
              "      <td>NaN</td>\n",
              "      <td>NaN</td>\n",
              "      <td>NaN</td>\n",
              "    </tr>\n",
              "    <tr>\n",
              "      <th>3</th>\n",
              "      <td>0000000000100</td>\n",
              "      <td>http://world-en.openfoodfacts.org/product/0000...</td>\n",
              "      <td>del51</td>\n",
              "      <td>1444572561</td>\n",
              "      <td>2015-10-11T14:09:21Z</td>\n",
              "      <td>1444659212</td>\n",
              "      <td>2015-10-12T14:13:32Z</td>\n",
              "      <td>moutarde au moût de raisin</td>\n",
              "      <td>NaN</td>\n",
              "      <td>100g</td>\n",
              "      <td>...</td>\n",
              "      <td>NaN</td>\n",
              "      <td>18.0</td>\n",
              "      <td>NaN</td>\n",
              "      <td>NaN</td>\n",
              "      <td>NaN</td>\n",
              "      <td>NaN</td>\n",
              "      <td>NaN</td>\n",
              "      <td>NaN</td>\n",
              "      <td>NaN</td>\n",
              "      <td>NaN</td>\n",
              "    </tr>\n",
              "    <tr>\n",
              "      <th>4</th>\n",
              "      <td>00000000001111111111</td>\n",
              "      <td>http://world-en.openfoodfacts.org/product/0000...</td>\n",
              "      <td>openfoodfacts-contributors</td>\n",
              "      <td>1560020173</td>\n",
              "      <td>2019-06-08T18:56:13Z</td>\n",
              "      <td>1560020173</td>\n",
              "      <td>2019-06-08T18:56:13Z</td>\n",
              "      <td>Sfiudwx</td>\n",
              "      <td>NaN</td>\n",
              "      <td>dgesc</td>\n",
              "      <td>...</td>\n",
              "      <td>NaN</td>\n",
              "      <td>NaN</td>\n",
              "      <td>NaN</td>\n",
              "      <td>NaN</td>\n",
              "      <td>NaN</td>\n",
              "      <td>NaN</td>\n",
              "      <td>NaN</td>\n",
              "      <td>NaN</td>\n",
              "      <td>NaN</td>\n",
              "      <td>NaN</td>\n",
              "    </tr>\n",
              "  </tbody>\n",
              "</table>\n",
              "<p>5 rows × 183 columns</p>\n",
              "</div>"
            ]
          },
          "metadata": {
            "tags": []
          },
          "execution_count": 3
        }
      ]
    },
    {
      "cell_type": "markdown",
      "metadata": {
        "id": "FFb1WsjAZCDr"
      },
      "source": [
        "### Step 5. What is the number of observations in the dataset?"
      ]
    },
    {
      "cell_type": "code",
      "metadata": {
        "collapsed": true,
        "id": "kWuh14VLZCDr",
        "outputId": "eb8359ea-7e66-40d2-dd2d-58fe3f40b361",
        "colab": {
          "base_uri": "https://localhost:8080/"
        }
      },
      "source": [
        "food.shape"
      ],
      "execution_count": 4,
      "outputs": [
        {
          "output_type": "execute_result",
          "data": {
            "text/plain": [
              "(1555491, 183)"
            ]
          },
          "metadata": {
            "tags": []
          },
          "execution_count": 4
        }
      ]
    },
    {
      "cell_type": "markdown",
      "metadata": {
        "id": "cbQGMr__ZCDr"
      },
      "source": [
        "### Step 6. What is the number of columns in the dataset?"
      ]
    },
    {
      "cell_type": "code",
      "metadata": {
        "collapsed": true,
        "id": "S73igWY4ZCDs",
        "outputId": "7929ce61-e441-46b9-8bf5-6021cec29c9d",
        "colab": {
          "base_uri": "https://localhost:8080/"
        }
      },
      "source": [
        "len(list(food))"
      ],
      "execution_count": 5,
      "outputs": [
        {
          "output_type": "execute_result",
          "data": {
            "text/plain": [
              "183"
            ]
          },
          "metadata": {
            "tags": []
          },
          "execution_count": 5
        }
      ]
    },
    {
      "cell_type": "markdown",
      "metadata": {
        "id": "qmth0yZ0ZCDs"
      },
      "source": [
        "### Step 7. Print the name of all the columns."
      ]
    },
    {
      "cell_type": "code",
      "metadata": {
        "collapsed": true,
        "id": "6PmA8fawZCDt",
        "outputId": "120563e0-53bb-4809-fb44-caa612dbcca3",
        "colab": {
          "base_uri": "https://localhost:8080/"
        }
      },
      "source": [
        "list(food)"
      ],
      "execution_count": 6,
      "outputs": [
        {
          "output_type": "execute_result",
          "data": {
            "text/plain": [
              "['code',\n",
              " 'url',\n",
              " 'creator',\n",
              " 'created_t',\n",
              " 'created_datetime',\n",
              " 'last_modified_t',\n",
              " 'last_modified_datetime',\n",
              " 'product_name',\n",
              " 'generic_name',\n",
              " 'quantity',\n",
              " 'packaging',\n",
              " 'packaging_tags',\n",
              " 'packaging_text',\n",
              " 'brands',\n",
              " 'brands_tags',\n",
              " 'categories',\n",
              " 'categories_tags',\n",
              " 'categories_en',\n",
              " 'origins',\n",
              " 'origins_tags',\n",
              " 'origins_en',\n",
              " 'manufacturing_places',\n",
              " 'manufacturing_places_tags',\n",
              " 'labels',\n",
              " 'labels_tags',\n",
              " 'labels_en',\n",
              " 'emb_codes',\n",
              " 'emb_codes_tags',\n",
              " 'first_packaging_code_geo',\n",
              " 'cities',\n",
              " 'cities_tags',\n",
              " 'purchase_places',\n",
              " 'stores',\n",
              " 'countries',\n",
              " 'countries_tags',\n",
              " 'countries_en',\n",
              " 'ingredients_text',\n",
              " 'allergens',\n",
              " 'allergens_en',\n",
              " 'traces',\n",
              " 'traces_tags',\n",
              " 'traces_en',\n",
              " 'serving_size',\n",
              " 'serving_quantity',\n",
              " 'no_nutriments',\n",
              " 'additives_n',\n",
              " 'additives',\n",
              " 'additives_tags',\n",
              " 'additives_en',\n",
              " 'ingredients_from_palm_oil_n',\n",
              " 'ingredients_from_palm_oil',\n",
              " 'ingredients_from_palm_oil_tags',\n",
              " 'ingredients_that_may_be_from_palm_oil_n',\n",
              " 'ingredients_that_may_be_from_palm_oil',\n",
              " 'ingredients_that_may_be_from_palm_oil_tags',\n",
              " 'nutriscore_score',\n",
              " 'nutriscore_grade',\n",
              " 'nova_group',\n",
              " 'pnns_groups_1',\n",
              " 'pnns_groups_2',\n",
              " 'states',\n",
              " 'states_tags',\n",
              " 'states_en',\n",
              " 'brand_owner',\n",
              " 'main_category',\n",
              " 'main_category_en',\n",
              " 'image_url',\n",
              " 'image_small_url',\n",
              " 'image_ingredients_url',\n",
              " 'image_ingredients_small_url',\n",
              " 'image_nutrition_url',\n",
              " 'image_nutrition_small_url',\n",
              " 'energy-kj_100g',\n",
              " 'energy-kcal_100g',\n",
              " 'energy_100g',\n",
              " 'energy-from-fat_100g',\n",
              " 'fat_100g',\n",
              " 'saturated-fat_100g',\n",
              " '-butyric-acid_100g',\n",
              " '-caproic-acid_100g',\n",
              " '-caprylic-acid_100g',\n",
              " '-capric-acid_100g',\n",
              " '-lauric-acid_100g',\n",
              " '-myristic-acid_100g',\n",
              " '-palmitic-acid_100g',\n",
              " '-stearic-acid_100g',\n",
              " '-arachidic-acid_100g',\n",
              " '-behenic-acid_100g',\n",
              " '-lignoceric-acid_100g',\n",
              " '-cerotic-acid_100g',\n",
              " '-montanic-acid_100g',\n",
              " '-melissic-acid_100g',\n",
              " 'monounsaturated-fat_100g',\n",
              " 'polyunsaturated-fat_100g',\n",
              " 'omega-3-fat_100g',\n",
              " '-alpha-linolenic-acid_100g',\n",
              " '-eicosapentaenoic-acid_100g',\n",
              " '-docosahexaenoic-acid_100g',\n",
              " 'omega-6-fat_100g',\n",
              " '-linoleic-acid_100g',\n",
              " '-arachidonic-acid_100g',\n",
              " '-gamma-linolenic-acid_100g',\n",
              " '-dihomo-gamma-linolenic-acid_100g',\n",
              " 'omega-9-fat_100g',\n",
              " '-oleic-acid_100g',\n",
              " '-elaidic-acid_100g',\n",
              " '-gondoic-acid_100g',\n",
              " '-mead-acid_100g',\n",
              " '-erucic-acid_100g',\n",
              " '-nervonic-acid_100g',\n",
              " 'trans-fat_100g',\n",
              " 'cholesterol_100g',\n",
              " 'carbohydrates_100g',\n",
              " 'sugars_100g',\n",
              " '-sucrose_100g',\n",
              " '-glucose_100g',\n",
              " '-fructose_100g',\n",
              " '-lactose_100g',\n",
              " '-maltose_100g',\n",
              " '-maltodextrins_100g',\n",
              " 'starch_100g',\n",
              " 'polyols_100g',\n",
              " 'fiber_100g',\n",
              " '-soluble-fiber_100g',\n",
              " '-insoluble-fiber_100g',\n",
              " 'proteins_100g',\n",
              " 'casein_100g',\n",
              " 'serum-proteins_100g',\n",
              " 'nucleotides_100g',\n",
              " 'salt_100g',\n",
              " 'sodium_100g',\n",
              " 'alcohol_100g',\n",
              " 'vitamin-a_100g',\n",
              " 'beta-carotene_100g',\n",
              " 'vitamin-d_100g',\n",
              " 'vitamin-e_100g',\n",
              " 'vitamin-k_100g',\n",
              " 'vitamin-c_100g',\n",
              " 'vitamin-b1_100g',\n",
              " 'vitamin-b2_100g',\n",
              " 'vitamin-pp_100g',\n",
              " 'vitamin-b6_100g',\n",
              " 'vitamin-b9_100g',\n",
              " 'folates_100g',\n",
              " 'vitamin-b12_100g',\n",
              " 'biotin_100g',\n",
              " 'pantothenic-acid_100g',\n",
              " 'silica_100g',\n",
              " 'bicarbonate_100g',\n",
              " 'potassium_100g',\n",
              " 'chloride_100g',\n",
              " 'calcium_100g',\n",
              " 'phosphorus_100g',\n",
              " 'iron_100g',\n",
              " 'magnesium_100g',\n",
              " 'zinc_100g',\n",
              " 'copper_100g',\n",
              " 'manganese_100g',\n",
              " 'fluoride_100g',\n",
              " 'selenium_100g',\n",
              " 'chromium_100g',\n",
              " 'molybdenum_100g',\n",
              " 'iodine_100g',\n",
              " 'caffeine_100g',\n",
              " 'taurine_100g',\n",
              " 'ph_100g',\n",
              " 'fruits-vegetables-nuts_100g',\n",
              " 'fruits-vegetables-nuts-dried_100g',\n",
              " 'fruits-vegetables-nuts-estimate_100g',\n",
              " 'collagen-meat-protein-ratio_100g',\n",
              " 'cocoa_100g',\n",
              " 'chlorophyl_100g',\n",
              " 'carbon-footprint_100g',\n",
              " 'carbon-footprint-from-meat-or-fish_100g',\n",
              " 'nutrition-score-fr_100g',\n",
              " 'nutrition-score-uk_100g',\n",
              " 'glycemic-index_100g',\n",
              " 'water-hardness_100g',\n",
              " 'choline_100g',\n",
              " 'phylloquinone_100g',\n",
              " 'beta-glucan_100g',\n",
              " 'inositol_100g',\n",
              " 'carnitine_100g']"
            ]
          },
          "metadata": {
            "tags": []
          },
          "execution_count": 6
        }
      ]
    },
    {
      "cell_type": "markdown",
      "metadata": {
        "id": "yrj8ggoZZCDt"
      },
      "source": [
        "### Step 8. What is the name of 105th column?"
      ]
    },
    {
      "cell_type": "code",
      "metadata": {
        "collapsed": true,
        "id": "ac-v1mTcZCDu",
        "outputId": "d947e878-7dea-4879-d95f-adabd0d65cfd",
        "colab": {
          "base_uri": "https://localhost:8080/",
          "height": 35
        }
      },
      "source": [
        "list(food)[104]"
      ],
      "execution_count": 7,
      "outputs": [
        {
          "output_type": "execute_result",
          "data": {
            "application/vnd.google.colaboratory.intrinsic+json": {
              "type": "string"
            },
            "text/plain": [
              "'-oleic-acid_100g'"
            ]
          },
          "metadata": {
            "tags": []
          },
          "execution_count": 7
        }
      ]
    },
    {
      "cell_type": "markdown",
      "metadata": {
        "id": "VwzqyOeIZCDu"
      },
      "source": [
        "### Step 9. What is the type of the observations of the 105th column?"
      ]
    },
    {
      "cell_type": "code",
      "metadata": {
        "collapsed": true,
        "id": "x8WjNiZOZCDu",
        "outputId": "1800604d-9810-4af0-e21b-2cf2627e4c0d",
        "colab": {
          "base_uri": "https://localhost:8080/"
        }
      },
      "source": [
        "food.dtypes[104]"
      ],
      "execution_count": 8,
      "outputs": [
        {
          "output_type": "execute_result",
          "data": {
            "text/plain": [
              "dtype('float64')"
            ]
          },
          "metadata": {
            "tags": []
          },
          "execution_count": 8
        }
      ]
    },
    {
      "cell_type": "markdown",
      "metadata": {
        "id": "CNcDFPtsZCDv"
      },
      "source": [
        "### Step 10. How is the dataset indexed?"
      ]
    },
    {
      "cell_type": "code",
      "metadata": {
        "collapsed": true,
        "id": "-m7mwjEDZCDv",
        "outputId": "72288feb-48c1-4054-806e-f527ca7e643d",
        "colab": {
          "base_uri": "https://localhost:8080/",
          "height": 166
        }
      },
      "source": [
        "food.index"
      ],
      "execution_count": 1,
      "outputs": [
        {
          "output_type": "error",
          "ename": "NameError",
          "evalue": "ignored",
          "traceback": [
            "\u001b[0;31m\u001b[0m",
            "\u001b[0;31mNameError\u001b[0mTraceback (most recent call last)",
            "\u001b[0;32m<ipython-input-1-dfb5fecfaa08>\u001b[0m in \u001b[0;36m<module>\u001b[0;34m()\u001b[0m\n\u001b[0;32m----> 1\u001b[0;31m \u001b[0mfood\u001b[0m\u001b[0;34m.\u001b[0m\u001b[0mindex\u001b[0m\u001b[0;34m\u001b[0m\u001b[0m\n\u001b[0m",
            "\u001b[0;31mNameError\u001b[0m: name 'food' is not defined"
          ]
        }
      ]
    },
    {
      "cell_type": "markdown",
      "metadata": {
        "id": "FIU683vsZCDv"
      },
      "source": [
        "### Step 11. What is the product name of the 19th observation?"
      ]
    },
    {
      "cell_type": "code",
      "metadata": {
        "collapsed": true,
        "id": "5ZpFtbn0ZCDw"
      },
      "source": [
        ""
      ],
      "execution_count": null,
      "outputs": []
    },
    {
      "cell_type": "code",
      "metadata": {
        "id": "HTVC0uaqdvtb"
      },
      "source": [
        ""
      ],
      "execution_count": null,
      "outputs": []
    }
  ]
}